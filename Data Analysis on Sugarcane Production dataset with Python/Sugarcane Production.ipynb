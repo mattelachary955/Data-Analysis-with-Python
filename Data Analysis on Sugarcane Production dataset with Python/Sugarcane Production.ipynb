{
 "cells": [
  {
   "cell_type": "code",
   "execution_count": 1,
   "id": "53824a2e",
   "metadata": {},
   "outputs": [],
   "source": [
    "import pandas as pd\n",
    "import numpy as np\n",
    "import matplotlib.pyplot as plt\n",
    "import seaborn as sns\n"
   ]
  },
  {
   "cell_type": "code",
   "execution_count": 2,
   "id": "4b482434",
   "metadata": {},
   "outputs": [],
   "source": [
    "df = pd.read_csv(r\"D:\\Python\\Data Analysis\\List of Countries by Sugarcane Production.csv\", encoding = \"utf-8\")"
   ]
  },
  {
   "cell_type": "code",
   "execution_count": 3,
   "id": "38ac1f57",
   "metadata": {},
   "outputs": [
    {
     "data": {
      "text/html": [
       "<div>\n",
       "<style scoped>\n",
       "    .dataframe tbody tr th:only-of-type {\n",
       "        vertical-align: middle;\n",
       "    }\n",
       "\n",
       "    .dataframe tbody tr th {\n",
       "        vertical-align: top;\n",
       "    }\n",
       "\n",
       "    .dataframe thead th {\n",
       "        text-align: right;\n",
       "    }\n",
       "</style>\n",
       "<table border=\"1\" class=\"dataframe\">\n",
       "  <thead>\n",
       "    <tr style=\"text-align: right;\">\n",
       "      <th></th>\n",
       "      <th>Unnamed: 0</th>\n",
       "      <th>Country</th>\n",
       "      <th>Continent</th>\n",
       "      <th>Production (Tons)</th>\n",
       "      <th>Production per Person (Kg)</th>\n",
       "      <th>Acreage (Hectare)</th>\n",
       "      <th>Yield (Kg / Hectare)</th>\n",
       "    </tr>\n",
       "  </thead>\n",
       "  <tbody>\n",
       "    <tr>\n",
       "      <th>0</th>\n",
       "      <td>0</td>\n",
       "      <td>Brazil</td>\n",
       "      <td>South America</td>\n",
       "      <td>768.678.382</td>\n",
       "      <td>3.668,531</td>\n",
       "      <td>10.226.205</td>\n",
       "      <td>75.167,5</td>\n",
       "    </tr>\n",
       "    <tr>\n",
       "      <th>1</th>\n",
       "      <td>1</td>\n",
       "      <td>India</td>\n",
       "      <td>Asia</td>\n",
       "      <td>348.448.000</td>\n",
       "      <td>260721</td>\n",
       "      <td>4.950.000</td>\n",
       "      <td>70.393,5</td>\n",
       "    </tr>\n",
       "    <tr>\n",
       "      <th>2</th>\n",
       "      <td>2</td>\n",
       "      <td>China</td>\n",
       "      <td>Asia</td>\n",
       "      <td>123.059.739</td>\n",
       "      <td>88287</td>\n",
       "      <td>1.675.215</td>\n",
       "      <td>73.459,1</td>\n",
       "    </tr>\n",
       "    <tr>\n",
       "      <th>3</th>\n",
       "      <td>3</td>\n",
       "      <td>Thailand</td>\n",
       "      <td>Asia</td>\n",
       "      <td>87.468.496</td>\n",
       "      <td>1.264,303</td>\n",
       "      <td>1.336.575</td>\n",
       "      <td>65.442,2</td>\n",
       "    </tr>\n",
       "    <tr>\n",
       "      <th>4</th>\n",
       "      <td>4</td>\n",
       "      <td>Pakistan</td>\n",
       "      <td>Asia</td>\n",
       "      <td>65.450.704</td>\n",
       "      <td>324219</td>\n",
       "      <td>1.130.820</td>\n",
       "      <td>57.879</td>\n",
       "    </tr>\n",
       "  </tbody>\n",
       "</table>\n",
       "</div>"
      ],
      "text/plain": [
       "   Unnamed: 0   Country      Continent Production (Tons)  \\\n",
       "0           0    Brazil  South America       768.678.382   \n",
       "1           1     India           Asia       348.448.000   \n",
       "2           2     China           Asia       123.059.739   \n",
       "3           3  Thailand           Asia        87.468.496   \n",
       "4           4  Pakistan           Asia        65.450.704   \n",
       "\n",
       "  Production per Person (Kg) Acreage (Hectare) Yield (Kg / Hectare)  \n",
       "0                  3.668,531        10.226.205             75.167,5  \n",
       "1                     260721         4.950.000             70.393,5  \n",
       "2                      88287         1.675.215             73.459,1  \n",
       "3                  1.264,303         1.336.575             65.442,2  \n",
       "4                     324219         1.130.820               57.879  "
      ]
     },
     "execution_count": 3,
     "metadata": {},
     "output_type": "execute_result"
    }
   ],
   "source": [
    "df.head()"
   ]
  },
  {
   "cell_type": "code",
   "execution_count": 4,
   "id": "befde471",
   "metadata": {},
   "outputs": [
    {
     "data": {
      "text/plain": [
       "(103, 7)"
      ]
     },
     "execution_count": 4,
     "metadata": {},
     "output_type": "execute_result"
    }
   ],
   "source": [
    "df.shape"
   ]
  },
  {
   "cell_type": "code",
   "execution_count": 5,
   "id": "bd68fbe0",
   "metadata": {},
   "outputs": [
    {
     "name": "stdout",
     "output_type": "stream",
     "text": [
      "<class 'pandas.core.frame.DataFrame'>\n",
      "RangeIndex: 103 entries, 0 to 102\n",
      "Data columns (total 7 columns):\n",
      " #   Column                      Non-Null Count  Dtype \n",
      "---  ------                      --------------  ----- \n",
      " 0   Unnamed: 0                  103 non-null    int64 \n",
      " 1   Country                     103 non-null    object\n",
      " 2   Continent                   103 non-null    object\n",
      " 3   Production (Tons)           103 non-null    object\n",
      " 4   Production per Person (Kg)  103 non-null    object\n",
      " 5   Acreage (Hectare)           102 non-null    object\n",
      " 6   Yield (Kg / Hectare)        102 non-null    object\n",
      "dtypes: int64(1), object(6)\n",
      "memory usage: 5.8+ KB\n"
     ]
    }
   ],
   "source": [
    "df.info()"
   ]
  },
  {
   "cell_type": "markdown",
   "id": "2a63df76",
   "metadata": {},
   "source": [
    "# Data Cleaning"
   ]
  },
  {
   "cell_type": "code",
   "execution_count": 6,
   "id": "191ef780",
   "metadata": {},
   "outputs": [],
   "source": [
    "df[\"Production (Tons)\"] = df[\"Production (Tons)\"].str.replace(\".\",\"\")\n",
    "df[\"Production per Person (Kg)\"] = df[\"Production per Person (Kg)\"].str.replace(\".\",\"\").str.replace(\",\",\".\")\n",
    "df[\"Acreage (Hectare)\"] = df[\"Acreage (Hectare)\"].str.replace(\".\",\"\")\n",
    "df[\"Yield (Kg / Hectare)\"] = df[\"Yield (Kg / Hectare)\"].str.replace(\".\",\"\").str.replace(\",\",\".\")"
   ]
  },
  {
   "cell_type": "code",
   "execution_count": 7,
   "id": "c1c93502",
   "metadata": {},
   "outputs": [
    {
     "data": {
      "text/html": [
       "<div>\n",
       "<style scoped>\n",
       "    .dataframe tbody tr th:only-of-type {\n",
       "        vertical-align: middle;\n",
       "    }\n",
       "\n",
       "    .dataframe tbody tr th {\n",
       "        vertical-align: top;\n",
       "    }\n",
       "\n",
       "    .dataframe thead th {\n",
       "        text-align: right;\n",
       "    }\n",
       "</style>\n",
       "<table border=\"1\" class=\"dataframe\">\n",
       "  <thead>\n",
       "    <tr style=\"text-align: right;\">\n",
       "      <th></th>\n",
       "      <th>Unnamed: 0</th>\n",
       "      <th>Country</th>\n",
       "      <th>Continent</th>\n",
       "      <th>Production (Tons)</th>\n",
       "      <th>Production per Person (Kg)</th>\n",
       "      <th>Acreage (Hectare)</th>\n",
       "      <th>Yield (Kg / Hectare)</th>\n",
       "    </tr>\n",
       "  </thead>\n",
       "  <tbody>\n",
       "    <tr>\n",
       "      <th>0</th>\n",
       "      <td>0</td>\n",
       "      <td>Brazil</td>\n",
       "      <td>South America</td>\n",
       "      <td>768678382</td>\n",
       "      <td>3668.531</td>\n",
       "      <td>10226205</td>\n",
       "      <td>75167.5</td>\n",
       "    </tr>\n",
       "    <tr>\n",
       "      <th>1</th>\n",
       "      <td>1</td>\n",
       "      <td>India</td>\n",
       "      <td>Asia</td>\n",
       "      <td>348448000</td>\n",
       "      <td>260721</td>\n",
       "      <td>4950000</td>\n",
       "      <td>70393.5</td>\n",
       "    </tr>\n",
       "    <tr>\n",
       "      <th>2</th>\n",
       "      <td>2</td>\n",
       "      <td>China</td>\n",
       "      <td>Asia</td>\n",
       "      <td>123059739</td>\n",
       "      <td>88287</td>\n",
       "      <td>1675215</td>\n",
       "      <td>73459.1</td>\n",
       "    </tr>\n",
       "    <tr>\n",
       "      <th>3</th>\n",
       "      <td>3</td>\n",
       "      <td>Thailand</td>\n",
       "      <td>Asia</td>\n",
       "      <td>87468496</td>\n",
       "      <td>1264.303</td>\n",
       "      <td>1336575</td>\n",
       "      <td>65442.2</td>\n",
       "    </tr>\n",
       "    <tr>\n",
       "      <th>4</th>\n",
       "      <td>4</td>\n",
       "      <td>Pakistan</td>\n",
       "      <td>Asia</td>\n",
       "      <td>65450704</td>\n",
       "      <td>324219</td>\n",
       "      <td>1130820</td>\n",
       "      <td>57879</td>\n",
       "    </tr>\n",
       "  </tbody>\n",
       "</table>\n",
       "</div>"
      ],
      "text/plain": [
       "   Unnamed: 0   Country      Continent Production (Tons)  \\\n",
       "0           0    Brazil  South America         768678382   \n",
       "1           1     India           Asia         348448000   \n",
       "2           2     China           Asia         123059739   \n",
       "3           3  Thailand           Asia          87468496   \n",
       "4           4  Pakistan           Asia          65450704   \n",
       "\n",
       "  Production per Person (Kg) Acreage (Hectare) Yield (Kg / Hectare)  \n",
       "0                   3668.531          10226205              75167.5  \n",
       "1                     260721           4950000              70393.5  \n",
       "2                      88287           1675215              73459.1  \n",
       "3                   1264.303           1336575              65442.2  \n",
       "4                     324219           1130820                57879  "
      ]
     },
     "execution_count": 7,
     "metadata": {},
     "output_type": "execute_result"
    }
   ],
   "source": [
    "df.head()"
   ]
  },
  {
   "cell_type": "code",
   "execution_count": 8,
   "id": "a6bf9b53",
   "metadata": {},
   "outputs": [
    {
     "data": {
      "text/plain": [
       "Unnamed: 0                     int64\n",
       "Country                       object\n",
       "Continent                     object\n",
       "Production (Tons)             object\n",
       "Production per Person (Kg)    object\n",
       "Acreage (Hectare)             object\n",
       "Yield (Kg / Hectare)          object\n",
       "dtype: object"
      ]
     },
     "execution_count": 8,
     "metadata": {},
     "output_type": "execute_result"
    }
   ],
   "source": [
    "df.dtypes"
   ]
  },
  {
   "cell_type": "code",
   "execution_count": 9,
   "id": "cef6ad69",
   "metadata": {},
   "outputs": [
    {
     "data": {
      "text/plain": [
       "Unnamed: 0                    0\n",
       "Country                       0\n",
       "Continent                     0\n",
       "Production (Tons)             0\n",
       "Production per Person (Kg)    0\n",
       "Acreage (Hectare)             1\n",
       "Yield (Kg / Hectare)          1\n",
       "dtype: int64"
      ]
     },
     "execution_count": 9,
     "metadata": {},
     "output_type": "execute_result"
    }
   ],
   "source": [
    "df.isna().sum()"
   ]
  },
  {
   "cell_type": "code",
   "execution_count": 12,
   "id": "fadf435c",
   "metadata": {},
   "outputs": [],
   "source": [
    "df[\"Production (Tons)\"] = df[\"Production (Tons)\"].astype(\"int\")\n",
    "df[\"Production per Person (Kg)\"] = df[\"Production per Person (Kg)\"].astype(\"float\")\n",
    "df[\"Acreage (Hectare)\"] = df[\"Acreage (Hectare)\"].astype(\"float\")\n",
    "df[\"Yield (Kg / Hectare)\"] = df[\"Yield (Kg / Hectare)\"].astype(\"float\")"
   ]
  },
  {
   "cell_type": "code",
   "execution_count": 15,
   "id": "f4f7a0c7",
   "metadata": {},
   "outputs": [
    {
     "data": {
      "text/plain": [
       "Unnamed: 0                    0\n",
       "Country                       0\n",
       "Continent                     0\n",
       "Production (Tons)             0\n",
       "Production per Person (Kg)    0\n",
       "Acreage (Hectare)             1\n",
       "Yield (Kg / Hectare)          1\n",
       "dtype: int64"
      ]
     },
     "execution_count": 15,
     "metadata": {},
     "output_type": "execute_result"
    }
   ],
   "source": [
    "df.isna().sum()"
   ]
  },
  {
   "cell_type": "code",
   "execution_count": 16,
   "id": "304764e4",
   "metadata": {},
   "outputs": [
    {
     "data": {
      "text/html": [
       "<div>\n",
       "<style scoped>\n",
       "    .dataframe tbody tr th:only-of-type {\n",
       "        vertical-align: middle;\n",
       "    }\n",
       "\n",
       "    .dataframe tbody tr th {\n",
       "        vertical-align: top;\n",
       "    }\n",
       "\n",
       "    .dataframe thead th {\n",
       "        text-align: right;\n",
       "    }\n",
       "</style>\n",
       "<table border=\"1\" class=\"dataframe\">\n",
       "  <thead>\n",
       "    <tr style=\"text-align: right;\">\n",
       "      <th></th>\n",
       "      <th>Unnamed: 0</th>\n",
       "      <th>Country</th>\n",
       "      <th>Continent</th>\n",
       "      <th>Production (Tons)</th>\n",
       "      <th>Production per Person (Kg)</th>\n",
       "      <th>Acreage (Hectare)</th>\n",
       "      <th>Yield (Kg / Hectare)</th>\n",
       "    </tr>\n",
       "  </thead>\n",
       "  <tbody>\n",
       "    <tr>\n",
       "      <th>count</th>\n",
       "      <td>103.000000</td>\n",
       "      <td>103</td>\n",
       "      <td>103</td>\n",
       "      <td>1.030000e+02</td>\n",
       "      <td>103.000000</td>\n",
       "      <td>1.020000e+02</td>\n",
       "      <td>102.000000</td>\n",
       "    </tr>\n",
       "    <tr>\n",
       "      <th>unique</th>\n",
       "      <td>NaN</td>\n",
       "      <td>103</td>\n",
       "      <td>6</td>\n",
       "      <td>NaN</td>\n",
       "      <td>NaN</td>\n",
       "      <td>NaN</td>\n",
       "      <td>NaN</td>\n",
       "    </tr>\n",
       "    <tr>\n",
       "      <th>top</th>\n",
       "      <td>NaN</td>\n",
       "      <td>Brazil</td>\n",
       "      <td>Africa</td>\n",
       "      <td>NaN</td>\n",
       "      <td>NaN</td>\n",
       "      <td>NaN</td>\n",
       "      <td>NaN</td>\n",
       "    </tr>\n",
       "    <tr>\n",
       "      <th>freq</th>\n",
       "      <td>NaN</td>\n",
       "      <td>1</td>\n",
       "      <td>39</td>\n",
       "      <td>NaN</td>\n",
       "      <td>NaN</td>\n",
       "      <td>NaN</td>\n",
       "      <td>NaN</td>\n",
       "    </tr>\n",
       "    <tr>\n",
       "      <th>mean</th>\n",
       "      <td>51.000000</td>\n",
       "      <td>NaN</td>\n",
       "      <td>NaN</td>\n",
       "      <td>1.832407e+07</td>\n",
       "      <td>111856.305311</td>\n",
       "      <td>2.498981e+05</td>\n",
       "      <td>52628.078431</td>\n",
       "    </tr>\n",
       "    <tr>\n",
       "      <th>std</th>\n",
       "      <td>29.877528</td>\n",
       "      <td>NaN</td>\n",
       "      <td>NaN</td>\n",
       "      <td>8.379760e+07</td>\n",
       "      <td>176134.928689</td>\n",
       "      <td>1.137003e+06</td>\n",
       "      <td>30504.676683</td>\n",
       "    </tr>\n",
       "    <tr>\n",
       "      <th>min</th>\n",
       "      <td>0.000000</td>\n",
       "      <td>NaN</td>\n",
       "      <td>NaN</td>\n",
       "      <td>1.000000e+00</td>\n",
       "      <td>0.000000</td>\n",
       "      <td>0.000000e+00</td>\n",
       "      <td>10.000000</td>\n",
       "    </tr>\n",
       "    <tr>\n",
       "      <th>25%</th>\n",
       "      <td>25.500000</td>\n",
       "      <td>NaN</td>\n",
       "      <td>NaN</td>\n",
       "      <td>4.298850e+04</td>\n",
       "      <td>3364.869000</td>\n",
       "      <td>1.104000e+03</td>\n",
       "      <td>29072.025000</td>\n",
       "    </tr>\n",
       "    <tr>\n",
       "      <th>50%</th>\n",
       "      <td>51.000000</td>\n",
       "      <td>NaN</td>\n",
       "      <td>NaN</td>\n",
       "      <td>1.422432e+06</td>\n",
       "      <td>25481.000000</td>\n",
       "      <td>1.655800e+04</td>\n",
       "      <td>54108.950000</td>\n",
       "    </tr>\n",
       "    <tr>\n",
       "      <th>75%</th>\n",
       "      <td>76.500000</td>\n",
       "      <td>NaN</td>\n",
       "      <td>NaN</td>\n",
       "      <td>6.145648e+06</td>\n",
       "      <td>144004.500000</td>\n",
       "      <td>8.047400e+04</td>\n",
       "      <td>73282.700000</td>\n",
       "    </tr>\n",
       "    <tr>\n",
       "      <th>max</th>\n",
       "      <td>102.000000</td>\n",
       "      <td>NaN</td>\n",
       "      <td>NaN</td>\n",
       "      <td>7.686784e+08</td>\n",
       "      <td>951087.000000</td>\n",
       "      <td>1.022620e+07</td>\n",
       "      <td>129049.300000</td>\n",
       "    </tr>\n",
       "  </tbody>\n",
       "</table>\n",
       "</div>"
      ],
      "text/plain": [
       "        Unnamed: 0 Country Continent  Production (Tons)  \\\n",
       "count   103.000000     103       103       1.030000e+02   \n",
       "unique         NaN     103         6                NaN   \n",
       "top            NaN  Brazil    Africa                NaN   \n",
       "freq           NaN       1        39                NaN   \n",
       "mean     51.000000     NaN       NaN       1.832407e+07   \n",
       "std      29.877528     NaN       NaN       8.379760e+07   \n",
       "min       0.000000     NaN       NaN       1.000000e+00   \n",
       "25%      25.500000     NaN       NaN       4.298850e+04   \n",
       "50%      51.000000     NaN       NaN       1.422432e+06   \n",
       "75%      76.500000     NaN       NaN       6.145648e+06   \n",
       "max     102.000000     NaN       NaN       7.686784e+08   \n",
       "\n",
       "        Production per Person (Kg)  Acreage (Hectare)  Yield (Kg / Hectare)  \n",
       "count                   103.000000       1.020000e+02            102.000000  \n",
       "unique                         NaN                NaN                   NaN  \n",
       "top                            NaN                NaN                   NaN  \n",
       "freq                           NaN                NaN                   NaN  \n",
       "mean                 111856.305311       2.498981e+05          52628.078431  \n",
       "std                  176134.928689       1.137003e+06          30504.676683  \n",
       "min                       0.000000       0.000000e+00             10.000000  \n",
       "25%                    3364.869000       1.104000e+03          29072.025000  \n",
       "50%                   25481.000000       1.655800e+04          54108.950000  \n",
       "75%                  144004.500000       8.047400e+04          73282.700000  \n",
       "max                  951087.000000       1.022620e+07         129049.300000  "
      ]
     },
     "execution_count": 16,
     "metadata": {},
     "output_type": "execute_result"
    }
   ],
   "source": [
    "df.describe(include = \"all\")"
   ]
  },
  {
   "cell_type": "code",
   "execution_count": 26,
   "id": "6c0d5513",
   "metadata": {},
   "outputs": [],
   "source": [
    "df[\"Acreage (Hectare)\"] = df[\"Acreage (Hectare)\"].fillna(2.498981e+05)\n",
    "df[\"Yield (Kg / Hectare)\"] = df[\"Yield (Kg / Hectare)\"].fillna(52628.078431)"
   ]
  },
  {
   "cell_type": "code",
   "execution_count": 28,
   "id": "fb013b32",
   "metadata": {},
   "outputs": [
    {
     "data": {
      "text/plain": [
       "Unnamed: 0                    0\n",
       "Country                       0\n",
       "Continent                     0\n",
       "Production (Tons)             0\n",
       "Production per Person (Kg)    0\n",
       "Acreage (Hectare)             0\n",
       "Yield (Kg / Hectare)          0\n",
       "dtype: int64"
      ]
     },
     "execution_count": 28,
     "metadata": {},
     "output_type": "execute_result"
    }
   ],
   "source": [
    "df.isna().sum()"
   ]
  },
  {
   "cell_type": "code",
   "execution_count": 33,
   "id": "83572d04",
   "metadata": {},
   "outputs": [],
   "source": [
    "df.drop(\"Unnamed: 0\", axis = 1, inplace = True)"
   ]
  },
  {
   "cell_type": "code",
   "execution_count": 34,
   "id": "40165ef8",
   "metadata": {},
   "outputs": [
    {
     "data": {
      "text/html": [
       "<div>\n",
       "<style scoped>\n",
       "    .dataframe tbody tr th:only-of-type {\n",
       "        vertical-align: middle;\n",
       "    }\n",
       "\n",
       "    .dataframe tbody tr th {\n",
       "        vertical-align: top;\n",
       "    }\n",
       "\n",
       "    .dataframe thead th {\n",
       "        text-align: right;\n",
       "    }\n",
       "</style>\n",
       "<table border=\"1\" class=\"dataframe\">\n",
       "  <thead>\n",
       "    <tr style=\"text-align: right;\">\n",
       "      <th></th>\n",
       "      <th>Country</th>\n",
       "      <th>Continent</th>\n",
       "      <th>Production (Tons)</th>\n",
       "      <th>Production per Person (Kg)</th>\n",
       "      <th>Acreage (Hectare)</th>\n",
       "      <th>Yield (Kg / Hectare)</th>\n",
       "    </tr>\n",
       "  </thead>\n",
       "  <tbody>\n",
       "    <tr>\n",
       "      <th>0</th>\n",
       "      <td>Brazil</td>\n",
       "      <td>South America</td>\n",
       "      <td>768678382</td>\n",
       "      <td>3668.531</td>\n",
       "      <td>10226205.0</td>\n",
       "      <td>75167.500000</td>\n",
       "    </tr>\n",
       "    <tr>\n",
       "      <th>1</th>\n",
       "      <td>India</td>\n",
       "      <td>Asia</td>\n",
       "      <td>348448000</td>\n",
       "      <td>260721.000</td>\n",
       "      <td>4950000.0</td>\n",
       "      <td>70393.500000</td>\n",
       "    </tr>\n",
       "    <tr>\n",
       "      <th>2</th>\n",
       "      <td>China</td>\n",
       "      <td>Asia</td>\n",
       "      <td>123059739</td>\n",
       "      <td>88287.000</td>\n",
       "      <td>1675215.0</td>\n",
       "      <td>73459.100000</td>\n",
       "    </tr>\n",
       "    <tr>\n",
       "      <th>3</th>\n",
       "      <td>Thailand</td>\n",
       "      <td>Asia</td>\n",
       "      <td>87468496</td>\n",
       "      <td>1264.303</td>\n",
       "      <td>1336575.0</td>\n",
       "      <td>65442.200000</td>\n",
       "    </tr>\n",
       "    <tr>\n",
       "      <th>4</th>\n",
       "      <td>Pakistan</td>\n",
       "      <td>Asia</td>\n",
       "      <td>65450704</td>\n",
       "      <td>324219.000</td>\n",
       "      <td>1130820.0</td>\n",
       "      <td>57879.000000</td>\n",
       "    </tr>\n",
       "    <tr>\n",
       "      <th>...</th>\n",
       "      <td>...</td>\n",
       "      <td>...</td>\n",
       "      <td>...</td>\n",
       "      <td>...</td>\n",
       "      <td>...</td>\n",
       "      <td>...</td>\n",
       "    </tr>\n",
       "    <tr>\n",
       "      <th>98</th>\n",
       "      <td>Lebanon</td>\n",
       "      <td>Asia</td>\n",
       "      <td>97</td>\n",
       "      <td>16.000</td>\n",
       "      <td>3.0</td>\n",
       "      <td>28386.400000</td>\n",
       "    </tr>\n",
       "    <tr>\n",
       "      <th>99</th>\n",
       "      <td>Djibouti</td>\n",
       "      <td>Africa</td>\n",
       "      <td>53</td>\n",
       "      <td>51.000</td>\n",
       "      <td>249898.1</td>\n",
       "      <td>52628.078431</td>\n",
       "    </tr>\n",
       "    <tr>\n",
       "      <th>100</th>\n",
       "      <td>Singapore</td>\n",
       "      <td>Asia</td>\n",
       "      <td>50</td>\n",
       "      <td>9.000</td>\n",
       "      <td>2.0</td>\n",
       "      <td>25.000000</td>\n",
       "    </tr>\n",
       "    <tr>\n",
       "      <th>101</th>\n",
       "      <td>Samoa</td>\n",
       "      <td>Oceania</td>\n",
       "      <td>12</td>\n",
       "      <td>6.000</td>\n",
       "      <td>1.0</td>\n",
       "      <td>11949.800000</td>\n",
       "    </tr>\n",
       "    <tr>\n",
       "      <th>102</th>\n",
       "      <td>Syria</td>\n",
       "      <td>Asia</td>\n",
       "      <td>1</td>\n",
       "      <td>0.000</td>\n",
       "      <td>0.0</td>\n",
       "      <td>83034.200000</td>\n",
       "    </tr>\n",
       "  </tbody>\n",
       "</table>\n",
       "<p>103 rows × 6 columns</p>\n",
       "</div>"
      ],
      "text/plain": [
       "       Country      Continent  Production (Tons)  Production per Person (Kg)  \\\n",
       "0       Brazil  South America          768678382                    3668.531   \n",
       "1        India           Asia          348448000                  260721.000   \n",
       "2        China           Asia          123059739                   88287.000   \n",
       "3     Thailand           Asia           87468496                    1264.303   \n",
       "4     Pakistan           Asia           65450704                  324219.000   \n",
       "..         ...            ...                ...                         ...   \n",
       "98     Lebanon           Asia                 97                      16.000   \n",
       "99    Djibouti         Africa                 53                      51.000   \n",
       "100  Singapore           Asia                 50                       9.000   \n",
       "101      Samoa        Oceania                 12                       6.000   \n",
       "102      Syria           Asia                  1                       0.000   \n",
       "\n",
       "     Acreage (Hectare)  Yield (Kg / Hectare)  \n",
       "0           10226205.0          75167.500000  \n",
       "1            4950000.0          70393.500000  \n",
       "2            1675215.0          73459.100000  \n",
       "3            1336575.0          65442.200000  \n",
       "4            1130820.0          57879.000000  \n",
       "..                 ...                   ...  \n",
       "98                 3.0          28386.400000  \n",
       "99            249898.1          52628.078431  \n",
       "100                2.0             25.000000  \n",
       "101                1.0          11949.800000  \n",
       "102                0.0          83034.200000  \n",
       "\n",
       "[103 rows x 6 columns]"
      ]
     },
     "execution_count": 34,
     "metadata": {},
     "output_type": "execute_result"
    }
   ],
   "source": [
    "df"
   ]
  },
  {
   "cell_type": "code",
   "execution_count": 36,
   "id": "7f58a87a",
   "metadata": {},
   "outputs": [
    {
     "data": {
      "text/html": [
       "<div>\n",
       "<style scoped>\n",
       "    .dataframe tbody tr th:only-of-type {\n",
       "        vertical-align: middle;\n",
       "    }\n",
       "\n",
       "    .dataframe tbody tr th {\n",
       "        vertical-align: top;\n",
       "    }\n",
       "\n",
       "    .dataframe thead th {\n",
       "        text-align: right;\n",
       "    }\n",
       "</style>\n",
       "<table border=\"1\" class=\"dataframe\">\n",
       "  <thead>\n",
       "    <tr style=\"text-align: right;\">\n",
       "      <th></th>\n",
       "      <th>Country</th>\n",
       "      <th>Continent</th>\n",
       "      <th>Production (Tons)</th>\n",
       "      <th>Production per Person (Kg)</th>\n",
       "      <th>Acreage (Hectare)</th>\n",
       "      <th>Yield (Kg / Hectare)</th>\n",
       "    </tr>\n",
       "  </thead>\n",
       "  <tbody>\n",
       "    <tr>\n",
       "      <th>0</th>\n",
       "      <td>Brazil</td>\n",
       "      <td>South America</td>\n",
       "      <td>768678382</td>\n",
       "      <td>3668.531</td>\n",
       "      <td>10226205.0</td>\n",
       "      <td>75167.500000</td>\n",
       "    </tr>\n",
       "    <tr>\n",
       "      <th>1</th>\n",
       "      <td>India</td>\n",
       "      <td>Asia</td>\n",
       "      <td>348448000</td>\n",
       "      <td>260721.000</td>\n",
       "      <td>4950000.0</td>\n",
       "      <td>70393.500000</td>\n",
       "    </tr>\n",
       "    <tr>\n",
       "      <th>2</th>\n",
       "      <td>China</td>\n",
       "      <td>Asia</td>\n",
       "      <td>123059739</td>\n",
       "      <td>88287.000</td>\n",
       "      <td>1675215.0</td>\n",
       "      <td>73459.100000</td>\n",
       "    </tr>\n",
       "    <tr>\n",
       "      <th>3</th>\n",
       "      <td>Thailand</td>\n",
       "      <td>Asia</td>\n",
       "      <td>87468496</td>\n",
       "      <td>1264.303</td>\n",
       "      <td>1336575.0</td>\n",
       "      <td>65442.200000</td>\n",
       "    </tr>\n",
       "    <tr>\n",
       "      <th>4</th>\n",
       "      <td>Pakistan</td>\n",
       "      <td>Asia</td>\n",
       "      <td>65450704</td>\n",
       "      <td>324219.000</td>\n",
       "      <td>1130820.0</td>\n",
       "      <td>57879.000000</td>\n",
       "    </tr>\n",
       "    <tr>\n",
       "      <th>...</th>\n",
       "      <td>...</td>\n",
       "      <td>...</td>\n",
       "      <td>...</td>\n",
       "      <td>...</td>\n",
       "      <td>...</td>\n",
       "      <td>...</td>\n",
       "    </tr>\n",
       "    <tr>\n",
       "      <th>98</th>\n",
       "      <td>Lebanon</td>\n",
       "      <td>Asia</td>\n",
       "      <td>97</td>\n",
       "      <td>16.000</td>\n",
       "      <td>3.0</td>\n",
       "      <td>28386.400000</td>\n",
       "    </tr>\n",
       "    <tr>\n",
       "      <th>99</th>\n",
       "      <td>Djibouti</td>\n",
       "      <td>Africa</td>\n",
       "      <td>53</td>\n",
       "      <td>51.000</td>\n",
       "      <td>249898.1</td>\n",
       "      <td>52628.078431</td>\n",
       "    </tr>\n",
       "    <tr>\n",
       "      <th>100</th>\n",
       "      <td>Singapore</td>\n",
       "      <td>Asia</td>\n",
       "      <td>50</td>\n",
       "      <td>9.000</td>\n",
       "      <td>2.0</td>\n",
       "      <td>25.000000</td>\n",
       "    </tr>\n",
       "    <tr>\n",
       "      <th>101</th>\n",
       "      <td>Samoa</td>\n",
       "      <td>Oceania</td>\n",
       "      <td>12</td>\n",
       "      <td>6.000</td>\n",
       "      <td>1.0</td>\n",
       "      <td>11949.800000</td>\n",
       "    </tr>\n",
       "    <tr>\n",
       "      <th>102</th>\n",
       "      <td>Syria</td>\n",
       "      <td>Asia</td>\n",
       "      <td>1</td>\n",
       "      <td>0.000</td>\n",
       "      <td>0.0</td>\n",
       "      <td>83034.200000</td>\n",
       "    </tr>\n",
       "  </tbody>\n",
       "</table>\n",
       "<p>103 rows × 6 columns</p>\n",
       "</div>"
      ],
      "text/plain": [
       "       Country      Continent  Production (Tons)  Production per Person (Kg)  \\\n",
       "0       Brazil  South America          768678382                    3668.531   \n",
       "1        India           Asia          348448000                  260721.000   \n",
       "2        China           Asia          123059739                   88287.000   \n",
       "3     Thailand           Asia           87468496                    1264.303   \n",
       "4     Pakistan           Asia           65450704                  324219.000   \n",
       "..         ...            ...                ...                         ...   \n",
       "98     Lebanon           Asia                 97                      16.000   \n",
       "99    Djibouti         Africa                 53                      51.000   \n",
       "100  Singapore           Asia                 50                       9.000   \n",
       "101      Samoa        Oceania                 12                       6.000   \n",
       "102      Syria           Asia                  1                       0.000   \n",
       "\n",
       "     Acreage (Hectare)  Yield (Kg / Hectare)  \n",
       "0           10226205.0          75167.500000  \n",
       "1            4950000.0          70393.500000  \n",
       "2            1675215.0          73459.100000  \n",
       "3            1336575.0          65442.200000  \n",
       "4            1130820.0          57879.000000  \n",
       "..                 ...                   ...  \n",
       "98                 3.0          28386.400000  \n",
       "99            249898.1          52628.078431  \n",
       "100                2.0             25.000000  \n",
       "101                1.0          11949.800000  \n",
       "102                0.0          83034.200000  \n",
       "\n",
       "[103 rows x 6 columns]"
      ]
     },
     "execution_count": 36,
     "metadata": {},
     "output_type": "execute_result"
    }
   ],
   "source": [
    "df"
   ]
  },
  {
   "cell_type": "code",
   "execution_count": 47,
   "id": "65b4c7af",
   "metadata": {},
   "outputs": [
    {
     "name": "stderr",
     "output_type": "stream",
     "text": [
      "C:\\Users\\Chary Mattela\\AppData\\Local\\Temp\\ipykernel_10052\\2425897376.py:3: UserWarning: \n",
      "\n",
      "`distplot` is a deprecated function and will be removed in seaborn v0.14.0.\n",
      "\n",
      "Please adapt your code to use either `displot` (a figure-level function with\n",
      "similar flexibility) or `histplot` (an axes-level function for histograms).\n",
      "\n",
      "For a guide to updating your code to use the new functions, please see\n",
      "https://gist.github.com/mwaskom/de44147ed2974457ad6372750bbe5751\n",
      "\n",
      "  sns.distplot(df[\"Production (Tons)\"])\n",
      "C:\\Users\\Chary Mattela\\AppData\\Local\\Temp\\ipykernel_10052\\2425897376.py:5: UserWarning: \n",
      "\n",
      "`distplot` is a deprecated function and will be removed in seaborn v0.14.0.\n",
      "\n",
      "Please adapt your code to use either `displot` (a figure-level function with\n",
      "similar flexibility) or `histplot` (an axes-level function for histograms).\n",
      "\n",
      "For a guide to updating your code to use the new functions, please see\n",
      "https://gist.github.com/mwaskom/de44147ed2974457ad6372750bbe5751\n",
      "\n",
      "  sns.distplot(df[\"Production per Person (Kg)\"])\n",
      "C:\\Users\\Chary Mattela\\AppData\\Local\\Temp\\ipykernel_10052\\2425897376.py:7: UserWarning: \n",
      "\n",
      "`distplot` is a deprecated function and will be removed in seaborn v0.14.0.\n",
      "\n",
      "Please adapt your code to use either `displot` (a figure-level function with\n",
      "similar flexibility) or `histplot` (an axes-level function for histograms).\n",
      "\n",
      "For a guide to updating your code to use the new functions, please see\n",
      "https://gist.github.com/mwaskom/de44147ed2974457ad6372750bbe5751\n",
      "\n",
      "  sns.distplot(df[\"Acreage (Hectare)\"])\n",
      "C:\\Users\\Chary Mattela\\AppData\\Local\\Temp\\ipykernel_10052\\2425897376.py:9: UserWarning: \n",
      "\n",
      "`distplot` is a deprecated function and will be removed in seaborn v0.14.0.\n",
      "\n",
      "Please adapt your code to use either `displot` (a figure-level function with\n",
      "similar flexibility) or `histplot` (an axes-level function for histograms).\n",
      "\n",
      "For a guide to updating your code to use the new functions, please see\n",
      "https://gist.github.com/mwaskom/de44147ed2974457ad6372750bbe5751\n",
      "\n",
      "  sns.distplot(df[\"Yield (Kg / Hectare)\"])\n"
     ]
    },
    {
     "data": {
      "text/plain": [
       "<Axes: xlabel='Yield (Kg / Hectare)', ylabel='Density'>"
      ]
     },
     "execution_count": 47,
     "metadata": {},
     "output_type": "execute_result"
    },
    {
     "data": {
      "image/png": "[encoded data removed]",
      "text/plain": [
       "<Figure size 1000x1000 with 4 Axes>"
      ]
     },
     "metadata": {},
     "output_type": "display_data"
    }
   ],
   "source": [
    "plt.figure(figsize=(10,10))\n",
    "plt.subplot(2,2,1)\n",
    "sns.distplot(df[\"Production (Tons)\"])\n",
    "plt.subplot(2,2,2)\n",
    "sns.distplot(df[\"Production per Person (Kg)\"])\n",
    "plt.subplot(2,2,3)\n",
    "sns.distplot(df[\"Acreage (Hectare)\"])\n",
    "plt.subplot(2,2,4)\n",
    "sns.distplot(df[\"Yield (Kg / Hectare)\"])"
   ]
  },
  {
   "cell_type": "code",
   "execution_count": 49,
   "id": "f6c22eff",
   "metadata": {},
   "outputs": [
    {
     "data": {
      "text/plain": [
       "<Axes: >"
      ]
     },
     "execution_count": 49,
     "metadata": {},
     "output_type": "execute_result"
    },
    {
     "data": {
      "image/png": "[encoded data removed]",
      "text/plain": [
       "<Figure size 1000x1000 with 4 Axes>"
      ]
     },
     "metadata": {},
     "output_type": "display_data"
    }
   ],
   "source": [
    "plt.figure(figsize=(10,10))\n",
    "plt.subplot(2,2,1)\n",
    "sns.boxplot(df[\"Production (Tons)\"])\n",
    "plt.subplot(2,2,2)\n",
    "sns.boxplot(df[\"Production per Person (Kg)\"])\n",
    "plt.subplot(2,2,3)\n",
    "sns.boxplot(df[\"Acreage (Hectare)\"])\n",
    "plt.subplot(2,2,4)\n",
    "sns.boxplot(df[\"Yield (Kg / Hectare)\"])"
   ]
  },
  {
   "cell_type": "code",
   "execution_count": 51,
   "id": "afba13b2",
   "metadata": {},
   "outputs": [
    {
     "data": {
      "text/html": [
       "<div>\n",
       "<style scoped>\n",
       "    .dataframe tbody tr th:only-of-type {\n",
       "        vertical-align: middle;\n",
       "    }\n",
       "\n",
       "    .dataframe tbody tr th {\n",
       "        vertical-align: top;\n",
       "    }\n",
       "\n",
       "    .dataframe thead th {\n",
       "        text-align: right;\n",
       "    }\n",
       "</style>\n",
       "<table border=\"1\" class=\"dataframe\">\n",
       "  <thead>\n",
       "    <tr style=\"text-align: right;\">\n",
       "      <th></th>\n",
       "      <th>Country</th>\n",
       "      <th>Continent</th>\n",
       "      <th>Production (Tons)</th>\n",
       "      <th>Production per Person (Kg)</th>\n",
       "      <th>Acreage (Hectare)</th>\n",
       "      <th>Yield (Kg / Hectare)</th>\n",
       "    </tr>\n",
       "  </thead>\n",
       "  <tbody>\n",
       "    <tr>\n",
       "      <th>0</th>\n",
       "      <td>Brazil</td>\n",
       "      <td>South America</td>\n",
       "      <td>768678382</td>\n",
       "      <td>3668.531</td>\n",
       "      <td>10226205.0</td>\n",
       "      <td>75167.5</td>\n",
       "    </tr>\n",
       "    <tr>\n",
       "      <th>1</th>\n",
       "      <td>India</td>\n",
       "      <td>Asia</td>\n",
       "      <td>348448000</td>\n",
       "      <td>260721.000</td>\n",
       "      <td>4950000.0</td>\n",
       "      <td>70393.5</td>\n",
       "    </tr>\n",
       "    <tr>\n",
       "      <th>2</th>\n",
       "      <td>China</td>\n",
       "      <td>Asia</td>\n",
       "      <td>123059739</td>\n",
       "      <td>88287.000</td>\n",
       "      <td>1675215.0</td>\n",
       "      <td>73459.1</td>\n",
       "    </tr>\n",
       "    <tr>\n",
       "      <th>3</th>\n",
       "      <td>Thailand</td>\n",
       "      <td>Asia</td>\n",
       "      <td>87468496</td>\n",
       "      <td>1264.303</td>\n",
       "      <td>1336575.0</td>\n",
       "      <td>65442.2</td>\n",
       "    </tr>\n",
       "    <tr>\n",
       "      <th>4</th>\n",
       "      <td>Pakistan</td>\n",
       "      <td>Asia</td>\n",
       "      <td>65450704</td>\n",
       "      <td>324219.000</td>\n",
       "      <td>1130820.0</td>\n",
       "      <td>57879.0</td>\n",
       "    </tr>\n",
       "  </tbody>\n",
       "</table>\n",
       "</div>"
      ],
      "text/plain": [
       "    Country      Continent  Production (Tons)  Production per Person (Kg)  \\\n",
       "0    Brazil  South America          768678382                    3668.531   \n",
       "1     India           Asia          348448000                  260721.000   \n",
       "2     China           Asia          123059739                   88287.000   \n",
       "3  Thailand           Asia           87468496                    1264.303   \n",
       "4  Pakistan           Asia           65450704                  324219.000   \n",
       "\n",
       "   Acreage (Hectare)  Yield (Kg / Hectare)  \n",
       "0         10226205.0               75167.5  \n",
       "1          4950000.0               70393.5  \n",
       "2          1675215.0               73459.1  \n",
       "3          1336575.0               65442.2  \n",
       "4          1130820.0               57879.0  "
      ]
     },
     "execution_count": 51,
     "metadata": {},
     "output_type": "execute_result"
    }
   ],
   "source": [
    "df.head()"
   ]
  },
  {
   "cell_type": "markdown",
   "id": "9333ff86",
   "metadata": {},
   "source": [
    "# Which country produces maximum Sugarcane?"
   ]
  },
  {
   "cell_type": "code",
   "execution_count": 53,
   "id": "5734bf4a",
   "metadata": {},
   "outputs": [],
   "source": [
    "country_prod_df = df[[\"Country\", \"Production (Tons)\"]]"
   ]
  },
  {
   "cell_type": "code",
   "execution_count": 58,
   "id": "410b1fae",
   "metadata": {},
   "outputs": [],
   "source": [
    "country_prod_df.set_index(\"Country\", inplace = True)"
   ]
  },
  {
   "cell_type": "code",
   "execution_count": 60,
   "id": "5a4fa9fd",
   "metadata": {},
   "outputs": [
    {
     "data": {
      "text/html": [
       "<div>\n",
       "<style scoped>\n",
       "    .dataframe tbody tr th:only-of-type {\n",
       "        vertical-align: middle;\n",
       "    }\n",
       "\n",
       "    .dataframe tbody tr th {\n",
       "        vertical-align: top;\n",
       "    }\n",
       "\n",
       "    .dataframe thead th {\n",
       "        text-align: right;\n",
       "    }\n",
       "</style>\n",
       "<table border=\"1\" class=\"dataframe\">\n",
       "  <thead>\n",
       "    <tr style=\"text-align: right;\">\n",
       "      <th></th>\n",
       "      <th>Production (Tons)</th>\n",
       "    </tr>\n",
       "    <tr>\n",
       "      <th>Country</th>\n",
       "      <th></th>\n",
       "    </tr>\n",
       "  </thead>\n",
       "  <tbody>\n",
       "    <tr>\n",
       "      <th>Brazil</th>\n",
       "      <td>768678382</td>\n",
       "    </tr>\n",
       "    <tr>\n",
       "      <th>India</th>\n",
       "      <td>348448000</td>\n",
       "    </tr>\n",
       "    <tr>\n",
       "      <th>China</th>\n",
       "      <td>123059739</td>\n",
       "    </tr>\n",
       "    <tr>\n",
       "      <th>Thailand</th>\n",
       "      <td>87468496</td>\n",
       "    </tr>\n",
       "    <tr>\n",
       "      <th>Pakistan</th>\n",
       "      <td>65450704</td>\n",
       "    </tr>\n",
       "  </tbody>\n",
       "</table>\n",
       "</div>"
      ],
      "text/plain": [
       "          Production (Tons)\n",
       "Country                    \n",
       "Brazil            768678382\n",
       "India             348448000\n",
       "China             123059739\n",
       "Thailand           87468496\n",
       "Pakistan           65450704"
      ]
     },
     "execution_count": 60,
     "metadata": {},
     "output_type": "execute_result"
    }
   ],
   "source": [
    "country_prod_df.head()"
   ]
  },
  {
   "cell_type": "code",
   "execution_count": 63,
   "id": "e1744e89",
   "metadata": {},
   "outputs": [
    {
     "name": "stderr",
     "output_type": "stream",
     "text": [
      "C:\\Users\\Chary Mattela\\AppData\\Local\\Temp\\ipykernel_10052\\1483347863.py:1: SettingWithCopyWarning: \n",
      "A value is trying to be set on a copy of a slice from a DataFrame.\n",
      "Try using .loc[row_indexer,col_indexer] = value instead\n",
      "\n",
      "See the caveats in the documentation: https://pandas.pydata.org/pandas-docs/stable/user_guide/indexing.html#returning-a-view-versus-a-copy\n",
      "  country_prod_df[\"Production (Tons)%\"] = (country_prod_df[\"Production (Tons)\"]/country_prod_df[\"Production (Tons)\"].sum())*100\n"
     ]
    }
   ],
   "source": [
    "country_prod_df[\"Production (Tons)%\"] = (country_prod_df[\"Production (Tons)\"]/country_prod_df[\"Production (Tons)\"].sum())*100"
   ]
  },
  {
   "cell_type": "code",
   "execution_count": 92,
   "id": "6bbcdb7c",
   "metadata": {},
   "outputs": [
    {
     "data": {
      "text/html": [
       "<div>\n",
       "<style scoped>\n",
       "    .dataframe tbody tr th:only-of-type {\n",
       "        vertical-align: middle;\n",
       "    }\n",
       "\n",
       "    .dataframe tbody tr th {\n",
       "        vertical-align: top;\n",
       "    }\n",
       "\n",
       "    .dataframe thead th {\n",
       "        text-align: right;\n",
       "    }\n",
       "</style>\n",
       "<table border=\"1\" class=\"dataframe\">\n",
       "  <thead>\n",
       "    <tr style=\"text-align: right;\">\n",
       "      <th></th>\n",
       "      <th>Production (Tons)</th>\n",
       "      <th>Production (Tons)%</th>\n",
       "    </tr>\n",
       "    <tr>\n",
       "      <th>Country</th>\n",
       "      <th></th>\n",
       "      <th></th>\n",
       "    </tr>\n",
       "  </thead>\n",
       "  <tbody>\n",
       "    <tr>\n",
       "      <th>Brazil</th>\n",
       "      <td>768678382</td>\n",
       "      <td>40.727284</td>\n",
       "    </tr>\n",
       "    <tr>\n",
       "      <th>India</th>\n",
       "      <td>348448000</td>\n",
       "      <td>18.462001</td>\n",
       "    </tr>\n",
       "    <tr>\n",
       "      <th>China</th>\n",
       "      <td>123059739</td>\n",
       "      <td>6.520138</td>\n",
       "    </tr>\n",
       "    <tr>\n",
       "      <th>Thailand</th>\n",
       "      <td>87468496</td>\n",
       "      <td>4.634389</td>\n",
       "    </tr>\n",
       "    <tr>\n",
       "      <th>Pakistan</th>\n",
       "      <td>65450704</td>\n",
       "      <td>3.467809</td>\n",
       "    </tr>\n",
       "  </tbody>\n",
       "</table>\n",
       "</div>"
      ],
      "text/plain": [
       "          Production (Tons)  Production (Tons)%\n",
       "Country                                        \n",
       "Brazil            768678382           40.727284\n",
       "India             348448000           18.462001\n",
       "China             123059739            6.520138\n",
       "Thailand           87468496            4.634389\n",
       "Pakistan           65450704            3.467809"
      ]
     },
     "execution_count": 92,
     "metadata": {},
     "output_type": "execute_result"
    }
   ],
   "source": [
    "country_prod_df.head()"
   ]
  },
  {
   "cell_type": "code",
   "execution_count": 81,
   "id": "51473a42",
   "metadata": {},
   "outputs": [
    {
     "name": "stderr",
     "output_type": "stream",
     "text": [
      "C:\\Users\\Chary Mattela\\AppData\\Local\\Temp\\ipykernel_10052\\2751471412.py:1: SettingWithCopyWarning: \n",
      "A value is trying to be set on a copy of a slice from a DataFrame\n",
      "\n",
      "See the caveats in the documentation: https://pandas.pydata.org/pandas-docs/stable/user_guide/indexing.html#returning-a-view-versus-a-copy\n",
      "  country_prod_df.sort_values(by =\"Production (Tons)\", ascending = False, inplace = True)\n"
     ]
    }
   ],
   "source": [
    "country_prod_df.sort_values(by =\"Production (Tons)\", ascending = False, inplace = True)\n"
   ]
  },
  {
   "cell_type": "code",
   "execution_count": 90,
   "id": "a723ddea",
   "metadata": {},
   "outputs": [
    {
     "name": "stdout",
     "output_type": "stream",
     "text": [
      "Country with high production is ' BRAZIL ' with production 768678382 Tons\n"
     ]
    }
   ],
   "source": [
    "print(\"Country with high production is '\",country_prod_df.index[0].upper(),\"' with production\",\n",
    "          country_prod_df[\"Production (Tons)\"][0],\"Tons\")"
   ]
  },
  {
   "cell_type": "code",
   "execution_count": 102,
   "id": "cd80e834",
   "metadata": {},
   "outputs": [
    {
     "ename": "ValueError",
     "evalue": "Could not interpret input 'Country'",
     "output_type": "error",
     "traceback": [
      "\u001b[1;31m---------------------------------------------------------------------------\u001b[0m",
      "\u001b[1;31mValueError\u001b[0m                                Traceback (most recent call last)",
      "Cell \u001b[1;32mIn[102], line 1\u001b[0m\n\u001b[1;32m----> 1\u001b[0m sns\u001b[38;5;241m.\u001b[39mbarplot(x \u001b[38;5;241m=\u001b[39m \u001b[38;5;124m\"\u001b[39m\u001b[38;5;124mCountry\u001b[39m\u001b[38;5;124m\"\u001b[39m, y\u001b[38;5;241m=\u001b[39m \u001b[38;5;124m\"\u001b[39m\u001b[38;5;124mProduction (Tons)\u001b[39m\u001b[38;5;124m\"\u001b[39m, data \u001b[38;5;241m=\u001b[39m country_prod_df )\n",
      "File \u001b[1;32mC:\\Anaconda\\Lib\\site-packages\\seaborn\\categorical.py:2755\u001b[0m, in \u001b[0;36mbarplot\u001b[1;34m(data, x, y, hue, order, hue_order, estimator, errorbar, n_boot, units, seed, orient, color, palette, saturation, width, errcolor, errwidth, capsize, dodge, ci, ax, **kwargs)\u001b[0m\n\u001b[0;32m   2752\u001b[0m \u001b[38;5;28;01mif\u001b[39;00m estimator \u001b[38;5;129;01mis\u001b[39;00m \u001b[38;5;28mlen\u001b[39m:\n\u001b[0;32m   2753\u001b[0m     estimator \u001b[38;5;241m=\u001b[39m \u001b[38;5;124m\"\u001b[39m\u001b[38;5;124msize\u001b[39m\u001b[38;5;124m\"\u001b[39m\n\u001b[1;32m-> 2755\u001b[0m plotter \u001b[38;5;241m=\u001b[39m _BarPlotter(x, y, hue, data, order, hue_order,\n\u001b[0;32m   2756\u001b[0m                       estimator, errorbar, n_boot, units, seed,\n\u001b[0;32m   2757\u001b[0m                       orient, color, palette, saturation,\n\u001b[0;32m   2758\u001b[0m                       width, errcolor, errwidth, capsize, dodge)\n\u001b[0;32m   2760\u001b[0m \u001b[38;5;28;01mif\u001b[39;00m ax \u001b[38;5;129;01mis\u001b[39;00m \u001b[38;5;28;01mNone\u001b[39;00m:\n\u001b[0;32m   2761\u001b[0m     ax \u001b[38;5;241m=\u001b[39m plt\u001b[38;5;241m.\u001b[39mgca()\n",
      "File \u001b[1;32mC:\\Anaconda\\Lib\\site-packages\\seaborn\\categorical.py:1530\u001b[0m, in \u001b[0;36m_BarPlotter.__init__\u001b[1;34m(self, x, y, hue, data, order, hue_order, estimator, errorbar, n_boot, units, seed, orient, color, palette, saturation, width, errcolor, errwidth, capsize, dodge)\u001b[0m\n\u001b[0;32m   1525\u001b[0m \u001b[38;5;28;01mdef\u001b[39;00m \u001b[38;5;21m__init__\u001b[39m(\u001b[38;5;28mself\u001b[39m, x, y, hue, data, order, hue_order,\n\u001b[0;32m   1526\u001b[0m              estimator, errorbar, n_boot, units, seed,\n\u001b[0;32m   1527\u001b[0m              orient, color, palette, saturation, width,\n\u001b[0;32m   1528\u001b[0m              errcolor, errwidth, capsize, dodge):\n\u001b[0;32m   1529\u001b[0m \u001b[38;5;250m    \u001b[39m\u001b[38;5;124;03m\"\"\"Initialize the plotter.\"\"\"\u001b[39;00m\n\u001b[1;32m-> 1530\u001b[0m     \u001b[38;5;28mself\u001b[39m\u001b[38;5;241m.\u001b[39mestablish_variables(x, y, hue, data, orient,\n\u001b[0;32m   1531\u001b[0m                              order, hue_order, units)\n\u001b[0;32m   1532\u001b[0m     \u001b[38;5;28mself\u001b[39m\u001b[38;5;241m.\u001b[39mestablish_colors(color, palette, saturation)\n\u001b[0;32m   1533\u001b[0m     \u001b[38;5;28mself\u001b[39m\u001b[38;5;241m.\u001b[39mestimate_statistic(estimator, errorbar, n_boot, seed)\n",
      "File \u001b[1;32mC:\\Anaconda\\Lib\\site-packages\\seaborn\\categorical.py:541\u001b[0m, in \u001b[0;36m_CategoricalPlotter.establish_variables\u001b[1;34m(self, x, y, hue, data, orient, order, hue_order, units)\u001b[0m\n\u001b[0;32m    539\u001b[0m     \u001b[38;5;28;01mif\u001b[39;00m \u001b[38;5;28misinstance\u001b[39m(var, \u001b[38;5;28mstr\u001b[39m):\n\u001b[0;32m    540\u001b[0m         err \u001b[38;5;241m=\u001b[39m \u001b[38;5;124mf\u001b[39m\u001b[38;5;124m\"\u001b[39m\u001b[38;5;124mCould not interpret input \u001b[39m\u001b[38;5;124m'\u001b[39m\u001b[38;5;132;01m{\u001b[39;00mvar\u001b[38;5;132;01m}\u001b[39;00m\u001b[38;5;124m'\u001b[39m\u001b[38;5;124m\"\u001b[39m\n\u001b[1;32m--> 541\u001b[0m         \u001b[38;5;28;01mraise\u001b[39;00m \u001b[38;5;167;01mValueError\u001b[39;00m(err)\n\u001b[0;32m    543\u001b[0m \u001b[38;5;66;03m# Figure out the plotting orientation\u001b[39;00m\n\u001b[0;32m    544\u001b[0m orient \u001b[38;5;241m=\u001b[39m infer_orient(\n\u001b[0;32m    545\u001b[0m     x, y, orient, require_numeric\u001b[38;5;241m=\u001b[39m\u001b[38;5;28mself\u001b[39m\u001b[38;5;241m.\u001b[39mrequire_numeric\n\u001b[0;32m    546\u001b[0m )\n",
      "\u001b[1;31mValueError\u001b[0m: Could not interpret input 'Country'"
     ]
    }
   ],
   "source": [
    "sns.barplot(x = \"Country\", y= \"Production (Tons)\", data = country_prod_df )"
   ]
  },
  {
   "cell_type": "markdown",
   "id": "296866b8",
   "metadata": {},
   "source": [
    "# Which Country has highest land?"
   ]
  },
  {
   "cell_type": "code",
   "execution_count": null,
   "id": "f906ccd7",
   "metadata": {},
   "outputs": [],
   "source": []
  }
 ],
 "metadata": {
  "kernelspec": {
   "display_name": "Python 3 (ipykernel)",
   "language": "python",
   "name": "python3"
  },
  "language_info": {
   "codemirror_mode": {
    "name": "ipython",
    "version": 3
   },
   "file_extension": ".py",
   "mimetype": "text/x-python",
   "name": "python",
   "nbconvert_exporter": "python",
   "pygments_lexer": "ipython3",
   "version": "3.11.5"
  }
 },
 "nbformat": 4,
 "nbformat_minor": 5
}
